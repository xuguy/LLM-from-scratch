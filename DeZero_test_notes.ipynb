{
 "cells": [
  {
   "cell_type": "code",
   "execution_count": 1,
   "metadata": {},
   "outputs": [
    {
     "name": "stdout",
     "output_type": "stream",
     "text": [
      "variable(0.8473695850105871)\n",
      "variable(0.2514286285183606)\n",
      "variable(0.24759485466749864)\n",
      "variable(0.2378612044705481)\n",
      "variable(0.21222231333102917)\n",
      "variable(0.16742181117834146)\n",
      "variable(0.0968193261999265)\n",
      "variable(0.07849528290602333)\n",
      "variable(0.07749729552991155)\n",
      "variable(0.07722132399559314)\n"
     ]
    },
    {
     "data": {
      "text/plain": [
       "[<matplotlib.lines.Line2D at 0x199b82dd8a0>]"
      ]
     },
     "execution_count": 1,
     "metadata": {},
     "output_type": "execute_result"
    },
    {
     "data": {
      "image/png": "[encoded data removed]",
      "text/plain": [
       "<Figure size 640x480 with 1 Axes>"
      ]
     },
     "metadata": {},
     "output_type": "display_data"
    }
   ],
   "source": [
    "import numpy as np\n",
    "from dezero import Variable\n",
    "import dezero.functions as F\n",
    "\n",
    "np.random.seed(0)\n",
    "x = np.random.rand(100, 1)\n",
    "y = np.sin(2*np.pi*x) + np.random.rand(100, 1)\n",
    "\n",
    "# initialize weights\n",
    "I, H, O = 1, 10, 1 # input hidden output layers\n",
    "W1 = Variable(0.01 * np.random.randn(I, H))\n",
    "b1 = Variable(np.zeros(H))\n",
    "\n",
    "W2 = Variable(0.01 * np.random.randn(H, O))\n",
    "b2 = Variable(np.zeros(O))\n",
    "\n",
    "def predict(x):\n",
    "    y = F.linear(x, W1, b1)\n",
    "    y = F.sigmoid_simple(y)\n",
    "    y = F.linear(y, W2, b2)\n",
    "    return y\n",
    "\n",
    "lr = 0.2\n",
    "iters = 10000\n",
    "\n",
    "for i in range(iters):\n",
    "    y_pred = predict(x)\n",
    "    loss = F.mean_squared_error(y, y_pred)\n",
    "    W1.cleargrad()\n",
    "    b1.cleargrad()\n",
    "    W2.cleargrad()\n",
    "    b2.cleargrad()\n",
    "    loss.backward()\n",
    "\n",
    "    W1.data -= lr*W1.grad.data\n",
    "    b1.data -= lr*b1.grad.data\n",
    "    W2.data -= lr*W2.grad.data\n",
    "    b2.data -= lr*b2.grad.data\n",
    "    if i % 1000 == 0:\n",
    "        print(loss)\n",
    "\n",
    "# plot to check how well the nn fit to toy sin() data\n",
    "import matplotlib.pyplot as plt\n",
    "x_t = np.linspace(0,1,100).reshape(100,1)\n",
    "y_pred = predict(x_t).data\n",
    "\n",
    "# pretty well indeed\n",
    "plt.plot(x_t, y_pred)\n"
   ]
  },
  {
   "cell_type": "markdown",
   "metadata": {},
   "source": [
    "### `Layer` class test"
   ]
  },
  {
   "cell_type": "code",
   "execution_count": 3,
   "metadata": {},
   "outputs": [
    {
     "name": "stdout",
     "output_type": "stream",
     "text": [
      "{'p1', 'p2'}\n",
      "p1 variable(1)\n",
      "p2 variable(2)\n"
     ]
    }
   ],
   "source": [
    "# layer class\n",
    "import numpy as np\n",
    "from dezero import Variable\n",
    "import dezero.functions as F\n",
    "from dezero import Parameter\n",
    "from dezero.layers import Layer\n",
    "\n",
    "layer = Layer()\n",
    "layer.p1 = Parameter(np.array(1))\n",
    "layer.p2 = Parameter(np.array(2))\n",
    "layer.p3 = Variable(np.array(3))\n",
    "layer.p4 = 'test'\n",
    "\n",
    "print(layer._params)\n",
    "'''\n",
    "out:\n",
    "{'p2', 'p1'}\n",
    "'''\n",
    "\n",
    "for name in layer._params:\n",
    "    print(name, layer.__dict__[name])\n",
    "\n"
   ]
  },
  {
   "cell_type": "markdown",
   "metadata": {},
   "source": [
    "### 使用Linear类实现神经网络："
   ]
  },
  {
   "cell_type": "code",
   "execution_count": 4,
   "metadata": {},
   "outputs": [
    {
     "name": "stdout",
     "output_type": "stream",
     "text": [
      "variable([0. 0. 0. 0. 0.])\n",
      "variable(None)\n",
      "variable([0. 0. 0.])\n",
      "variable(None)\n",
      "variable(2.1085010410910483)\n",
      "variable(0.7830999831433312)\n",
      "variable(0.741839976546367)\n",
      "variable(0.7344466963310486)\n",
      "variable(0.7282170690813982)\n",
      "variable(0.7219737288013254)\n",
      "variable(0.7151031894262673)\n",
      "variable(0.7072330611350139)\n",
      "variable(0.6981425150188675)\n",
      "variable(0.6877230785745242)\n"
     ]
    }
   ],
   "source": [
    "#%%\n",
    "import numpy as np\n",
    "from dezero import Variable, Layer\n",
    "from dezero.models import Model\n",
    "import dezero.functions as F\n",
    "import dezero.layers as L\n",
    "\n",
    "\n",
    "# toy data\n",
    "np.random.seed(0)\n",
    "x = np.random.rand(100,1)\n",
    "y = np.sin(2*np.pi*x) + np.random.rand(100,1)\n",
    "\n",
    "# (old)assign out_size to Linear layer\n",
    "# l1 = L.Linear(10)\n",
    "# l2 = L.Linear(1)\n",
    "\n",
    "# 将Layer作为参数加入Layer的_params中后，我们就可以把作为Layer的Linear实例（L.Linear)传入Layer的实例model的_params中统一管理\n",
    "model = Layer()\n",
    "model.l1 = L.Linear(5)\n",
    "model.l2 = L.Linear(3)\n",
    "\n",
    "# 定义网络结构：\n",
    "def predict(model, x):\n",
    "    # 所有的参数都在model中统一管理\n",
    "    y = model.l1(x)\n",
    "    y = F.sigmoid_simple(y)\n",
    "    y = model.l2(y)\n",
    "    return y\n",
    "\n",
    "# 测试访问所有参数并重置所有参数的梯度：\n",
    "for p in model.params():\n",
    "    #由于params()是yield构造的生成器，因此需要逐个访问\n",
    "    print(p)\n",
    "\n",
    "model.cleargrads()\n",
    "\n",
    "lr = 0.2\n",
    "iters = 1000\n",
    "\n",
    "for i in range(iters):\n",
    "    y_pred = predict(model, x)\n",
    "    loss = F.mean_squared_error(y, y_pred)\n",
    "\n",
    "    # l1.cleargrads()\n",
    "    # l2.cleargrads()\n",
    "    model.cleargrads()\n",
    "    loss.backward()\n",
    "\n",
    "    \n",
    "    for p in model.params():\n",
    "        p.data -= lr*p.grad.data\n",
    "\n",
    "    if i % 100 == 0:\n",
    "        print(loss)\n"
   ]
  },
  {
   "cell_type": "markdown",
   "metadata": {},
   "source": [
    "### 将上面的步骤抽象为一种更便捷的方法：将模型定义为一个继承Layer类的类："
   ]
  },
  {
   "cell_type": "code",
   "execution_count": 5,
   "metadata": {},
   "outputs": [
    {
     "name": "stdout",
     "output_type": "stream",
     "text": [
      "cmd: cd /d D:\\graphviz\\bin&dot C:\\Users\\xuguy\\.dezero\\tmp_graph.dot -T png -o model.png\n",
      "variable(2.1085010410910483)\n",
      "variable(0.7830999831433312)\n",
      "variable(0.741839976546367)\n",
      "variable(0.7344466963310488)\n",
      "variable(0.7282170690813982)\n",
      "variable(0.7219737288013254)\n",
      "variable(0.7151031894262673)\n",
      "variable(0.7072330611350139)\n",
      "variable(0.6981425150188673)\n",
      "variable(0.6877230785745243)\n"
     ]
    }
   ],
   "source": [
    "\n",
    "class TwoLayerNet(Model):\n",
    "    def __init__(self, hidden_size, out_size):\n",
    "        super().__init__()\n",
    "        self.l1 = L.Linear(hidden_size)\n",
    "        self.l2 = L.Linear(out_size)\n",
    "\n",
    "    def forward(self, x):\n",
    "        #定义模型的网络结构\n",
    "        y = F.sigmoid(self.l1(x))\n",
    "        y = self.l2(y)\n",
    "        return y\n",
    "\n",
    "# toy data: our old friend sin()\n",
    "np.random.seed(0)\n",
    "x = np.random.rand(100,1)\n",
    "y = np.sin(2*np.pi*x) + np.random.rand(100,1)\n",
    "\n",
    "hidden_size = 5\n",
    "out_size = 3\n",
    "lr = 0.2\n",
    "iters = 1000\n",
    "model = TwoLayerNet(hidden_size,out_size)\n",
    "model.plot(x)\n",
    "# model.cleargrads()\n",
    "\n",
    "for i in range(iters):\n",
    "    #forward\n",
    "    y_pred = model(x)\n",
    "    # cal loss\n",
    "    loss = F.mean_squared_error(y, y_pred)\n",
    "    #cleargrads before backwards\n",
    "    model.cleargrads()\n",
    "    loss.backward()\n",
    "    #更新模型参数\n",
    "    for p in model.params():\n",
    "        p.data -= lr*p.grad.data\n",
    "\n",
    "    if i % 100 == 0:\n",
    "        print(loss)\n"
   ]
  },
  {
   "cell_type": "markdown",
   "metadata": {},
   "source": [
    "![title](img/model.png)"
   ]
  },
  {
   "cell_type": "markdown",
   "metadata": {},
   "source": [
    "### 测试 MLP模型\n",
    "\n"
   ]
  },
  {
   "cell_type": "code",
   "execution_count": 6,
   "metadata": {},
   "outputs": [
    {
     "name": "stdout",
     "output_type": "stream",
     "text": [
      "variable([[0.07108538]\n",
      "          [0.07161369]\n",
      "          [0.0712646 ]\n",
      "          [0.07107203]\n",
      "          [0.07064234]\n",
      "          [0.07140248]\n",
      "          [0.07069343]\n",
      "          [0.07209376]\n",
      "          [0.07226566]\n",
      "          [0.07049259]\n",
      "          [0.071832  ]\n",
      "          [0.07101736]\n",
      "          [0.07115011]\n",
      "          [0.07217629]\n",
      "          [0.06924527]\n",
      "          [0.06931165]\n",
      "          [0.06903548]\n",
      "          [0.07194221]\n",
      "          [0.07179445]\n",
      "          [0.07203908]\n",
      "          [0.07229976]\n",
      "          [0.07185237]\n",
      "          [0.07078005]\n",
      "          [0.07180105]\n",
      "          [0.06943986]\n",
      "          [0.07138367]\n",
      "          [0.06954276]\n",
      "          [0.07222153]\n",
      "          [0.07099306]\n",
      "          [0.07060914]\n",
      "          [0.07003226]\n",
      "          [0.0717835 ]\n",
      "          [0.07076084]\n",
      "          [0.07115141]\n",
      "          [0.06902959]\n",
      "          [0.07131269]\n",
      "          [0.07129485]\n",
      "          [0.07131044]\n",
      "          [0.07221937]\n",
      "          [0.07151358]\n",
      "          [0.07040193]\n",
      "          [0.0706914 ]\n",
      "          [0.07156138]\n",
      "          [0.06920065]\n",
      "          [0.07146744]\n",
      "          [0.07147937]\n",
      "          [0.06981541]\n",
      "          [0.06948361]\n",
      "          [0.07023218]\n",
      "          [0.07041793]\n",
      "          [0.0711573 ]\n",
      "          [0.07069713]\n",
      "          [0.0723217 ]\n",
      "          [0.0693731 ]\n",
      "          [0.06980933]\n",
      "          [0.06961617]\n",
      "          [0.07142506]\n",
      "          [0.06998748]\n",
      "          [0.07079741]\n",
      "          [0.06995212]\n",
      "          [0.06960662]\n",
      "          [0.06940738]\n",
      "          [0.0714351 ]\n",
      "          [0.06952158]\n",
      "          [0.06975961]\n",
      "          [0.07043697]\n",
      "          [0.07191133]\n",
      "          [0.06935274]\n",
      "          [0.07195623]\n",
      "          [0.06934861]\n",
      "          [0.07229487]\n",
      "          [0.0708058 ]\n",
      "          [0.07229556]\n",
      "          [0.07127137]\n",
      "          [0.07168406]\n",
      "          [0.0691138 ]\n",
      "          [0.07010444]\n",
      "          [0.06944776]\n",
      "          [0.07015685]\n",
      "          [0.06944173]\n",
      "          [0.07024211]\n",
      "          [0.07060767]\n",
      "          [0.06921684]\n",
      "          [0.07154586]\n",
      "          [0.07114529]\n",
      "          [0.07003557]\n",
      "          [0.0709979 ]\n",
      "          [0.06933972]\n",
      "          [0.07117644]\n",
      "          [0.07218514]\n",
      "          [0.07024438]\n",
      "          [0.07146943]\n",
      "          [0.06949539]\n",
      "          [0.07161705]\n",
      "          [0.07013042]\n",
      "          [0.06970529]\n",
      "          [0.0712114 ]\n",
      "          [0.06903503]\n",
      "          [0.07193247]\n",
      "          [0.06897144]])\n",
      "0-(40,): variable([0. 0. 0. 0. 0. 0. 0. 0. 0. 0. 0. 0. 0. 0. 0. 0. 0. 0. 0. 0. 0. 0. 0. 0.\n",
      "          0. 0. 0. 0. 0. 0. 0. 0. 0. 0. 0. 0. 0. 0. 0. 0.])\n",
      "1-(30, 40): variable([[-0.11815863  0.08622014  0.16986857 ... -0.04739206  0.06654487\n",
      "            0.26862541]\n",
      "          [ 0.29079881 -0.04720869  0.05629333 ...  0.2865063   0.12605452\n",
      "            0.14545176]\n",
      "          [-0.12012032  0.17689296  0.04118539 ... -0.33193405 -0.0090053\n",
      "            0.04364136]\n",
      "          ...\n",
      "          [ 0.23182627 -0.12960105  0.0031979  ... -0.08778995  0.12845656\n",
      "            0.16963792]\n",
      "          [ 0.06776653 -0.18071605  0.11751046 ...  0.23240849 -0.30966978\n",
      "            0.13331267]\n",
      "          [-0.3391285   0.06985254 -0.16192583 ...  0.23397088  0.34948894\n",
      "           -0.30416056]])\n",
      "2-(1,): variable([0.])\n",
      "3-(40, 1): variable([[ 2.57195887e-01]\n",
      "          [-3.34313303e-02]\n",
      "          [-2.37251265e-03]\n",
      "          [-1.79319528e-02]\n",
      "          [ 1.70849026e-01]\n",
      "          [-2.54195994e-01]\n",
      "          [ 7.21258005e-02]\n",
      "          [-1.49397092e-01]\n",
      "          [ 9.02495865e-02]\n",
      "          [ 2.43937525e-01]\n",
      "          [-6.59850980e-05]\n",
      "          [ 5.91591117e-02]\n",
      "          [ 6.47558206e-02]\n",
      "          [-1.26426834e-01]\n",
      "          [ 2.39011168e-01]\n",
      "          [ 2.69816317e-01]\n",
      "          [ 1.10961692e-01]\n",
      "          [ 1.15874440e-02]\n",
      "          [-7.30318265e-02]\n",
      "          [-9.90568038e-02]\n",
      "          [ 2.70507007e-01]\n",
      "          [ 2.23638648e-01]\n",
      "          [-1.00657647e-02]\n",
      "          [-2.49808953e-01]\n",
      "          [-4.47780404e-01]\n",
      "          [-1.71304805e-01]\n",
      "          [-2.06528971e-02]\n",
      "          [ 2.21468378e-01]\n",
      "          [-1.03035894e-01]\n",
      "          [ 7.98183325e-02]\n",
      "          [ 2.06050998e-01]\n",
      "          [ 2.03233757e-02]\n",
      "          [-2.25229865e-02]\n",
      "          [-2.06933680e-01]\n",
      "          [-1.90128040e-01]\n",
      "          [ 6.57911294e-02]\n",
      "          [-3.17662694e-02]\n",
      "          [ 1.93739023e-02]\n",
      "          [-7.47526311e-03]\n",
      "          [ 1.05010393e-01]])\n",
      "4-(30,): variable([0. 0. 0. 0. 0. 0. 0. 0. 0. 0. 0. 0. 0. 0. 0. 0. 0. 0. 0. 0. 0. 0. 0. 0.\n",
      "          0. 0. 0. 0. 0. 0.])\n",
      "5-(20, 30): variable([[-1.40444653e-01 -1.07560935e-01  5.15171434e-01 -2.37026738e-01\n",
      "           -3.03992773e-02  2.54216638e-01  2.18519669e-02  1.30352408e-01\n",
      "           -8.93195164e-02  8.27470112e-02 -2.92148296e-01  3.70769284e-01\n",
      "           -2.64222843e-02 -1.52092475e-01  1.49007788e-01 -1.03020078e-01\n",
      "           -2.98349257e-01 -3.01135182e-01  1.55132393e-01 -3.56817050e-02\n",
      "           -2.98965783e-02  2.40990833e-01 -2.51965911e-01 -1.63384506e-01\n",
      "           -8.60617391e-02  2.10976568e-02 -9.42982338e-03 -6.41499278e-02\n",
      "           -1.37800821e-02 -2.39941886e-02]\n",
      "          [-1.60908429e-01 -1.81790759e-01  6.13837206e-02 -1.99214672e-01\n",
      "           -2.58792514e-01 -6.98306695e-02 -3.52554154e-02  5.04618694e-01\n",
      "           -1.57575775e-01  2.10919511e-01  1.67076390e-01 -2.65856170e-01\n",
      "            1.72904619e-01 -2.64723769e-01 -5.94609002e-01  1.35577172e-01\n",
      "           -3.92629076e-01  1.00832013e-01 -1.52949492e-01  3.71086837e-01\n",
      "            2.38925952e-01 -1.01380147e-01 -1.53805163e-01 -2.71475949e-01\n",
      "           -9.85932946e-02 -6.26893919e-02 -8.15479574e-02  3.50400482e-02\n",
      "            1.29361338e-01  7.81851154e-02]\n",
      "          [-1.70867780e-01 -3.21499946e-01  3.05118603e-01 -1.54165526e-01\n",
      "           -1.45857288e-01 -1.16541478e-01 -4.12122881e-01 -1.06878235e-01\n",
      "           -1.07254298e-01  1.38716330e-01  1.56179760e-01  8.43196418e-04\n",
      "            2.08367625e-01  7.60184818e-02 -3.50662694e-03  3.59846338e-02\n",
      "           -4.26314159e-02 -8.82910343e-02 -5.98670404e-02 -2.52231005e-01\n",
      "            6.27086708e-02 -2.22069186e-01  1.88194478e-01 -5.57806345e-02\n",
      "            1.10674144e-02  1.10425263e-01  1.43849491e-01 -3.51202068e-01\n",
      "           -4.62650696e-02  1.96813992e-01]\n",
      "          [-3.79708003e-01  8.65985444e-02 -5.04359491e-01 -2.28639479e-01\n",
      "            8.63805416e-03 -3.70452771e-01 -2.20366907e-01 -3.29112315e-01\n",
      "            3.68534178e-01  3.67224421e-02  1.26849969e-01 -4.97916660e-02\n",
      "           -7.90297444e-02 -3.61454609e-01 -6.52568185e-02 -1.70274831e-01\n",
      "            1.91837622e-01  2.55158128e-01  3.27936972e-01  1.90636409e-01\n",
      "           -1.33863084e-01 -2.49522141e-01  1.71431102e-01  7.96694952e-02\n",
      "           -3.95457225e-01  7.94881477e-02  1.82132169e-01  1.31761620e-02\n",
      "           -4.13792600e-02 -1.80595690e-01]\n",
      "          [-3.23455004e-01  1.78952068e-01 -6.91200937e-02 -5.22047311e-02\n",
      "            3.87448241e-01  1.53059102e-01  8.29189891e-02  3.17659841e-02\n",
      "            3.39881182e-01  3.84511869e-01  2.07843661e-01  1.30189380e-01\n",
      "           -4.68367483e-01  2.76650607e-02 -2.90927997e-02  2.10085808e-02\n",
      "            2.10871517e-01 -6.12610443e-01 -1.27302041e-01  6.03524463e-02\n",
      "           -1.04389837e-01 -3.16829840e-01  1.94306141e-01  6.19104433e-02\n",
      "           -2.17145581e-01  7.03952638e-02  1.83712151e-01  1.18347165e-03\n",
      "            1.79011737e-01  1.74995073e-02]\n",
      "          [-8.83758870e-02 -2.59254303e-01 -1.92147031e-02  4.34452205e-02\n",
      "            1.95842154e-01 -2.57388126e-02  1.02281240e-01 -2.15693802e-01\n",
      "           -1.75001194e-01 -2.46837978e-02 -2.35822100e-01  1.83412990e-01\n",
      "            1.03559089e-01  6.24077112e-02  7.57812634e-02  4.51919074e-01\n",
      "           -1.04841223e-01 -4.92257237e-01  4.45648795e-02 -1.13152961e-02\n",
      "           -1.15720779e-01 -2.18873011e-01 -9.82057629e-02  4.05485055e-02\n",
      "           -1.12433227e-01  5.39441036e-01 -2.14775303e-01 -1.77346430e-01\n",
      "           -5.11750988e-01  5.62336267e-02]\n",
      "          [-4.50882208e-01 -1.20625724e-01 -6.16418041e-02 -1.58699993e-01\n",
      "            3.88823744e-01  2.22353339e-01  2.94967969e-01 -1.97314845e-01\n",
      "            2.52361299e-01  1.10909183e-01  1.72491611e-01  2.30189525e-01\n",
      "           -2.03205636e-01 -9.48803061e-02  1.92882337e-01 -5.93814493e-01\n",
      "            3.38390445e-01  1.23684088e-01 -1.02197167e-02  4.93070098e-02\n",
      "           -2.30300521e-01 -7.82497163e-02  2.46031057e-01  2.90246550e-01\n",
      "            6.02894009e-01 -1.65300583e-02 -1.47256915e-01 -1.14986206e-01\n",
      "           -2.27641078e-01 -1.74088519e-02]\n",
      "          [ 8.55815711e-02 -7.65680654e-03  2.45150610e-01 -5.23722441e-02\n",
      "           -7.76923258e-02 -1.29975586e-01 -3.65068177e-01 -3.50563524e-01\n",
      "           -2.63667738e-01  2.91008165e-01  2.00186283e-01  3.07451323e-01\n",
      "           -2.97891573e-01 -4.40197868e-01 -1.47593074e-01  3.93143124e-02\n",
      "            1.11510536e-01  2.34333708e-01  6.35668676e-02  3.89672578e-01\n",
      "           -4.97761423e-02 -2.04170716e-01 -3.75931833e-01 -1.98780032e-01\n",
      "            5.41392209e-02 -1.98723895e-01  2.09461987e-01  3.15806063e-01\n",
      "           -5.29855749e-01  1.93207967e-01]\n",
      "          [-5.00790678e-01  8.97779197e-02  2.73889384e-01  1.45022659e-02\n",
      "           -2.86147203e-01 -1.30906400e-01 -5.85056982e-02 -4.07511711e-02\n",
      "           -4.53691112e-02 -2.45705364e-02  4.77355916e-02 -2.70245295e-01\n",
      "           -5.41172797e-02  3.39493524e-01 -8.60093334e-02 -9.92447675e-02\n",
      "            2.41092259e-01 -5.72251062e-01  2.64164286e-01 -1.41297978e-01\n",
      "            3.66555422e-02  2.15381107e-02  2.10742275e-01 -5.98360062e-02\n",
      "           -1.51611174e-01  2.90207152e-01 -5.28645353e-01  4.54686139e-03\n",
      "           -3.01405288e-01 -1.70292983e-01]\n",
      "          [ 4.49730669e-01 -9.97184081e-03  4.36189111e-02 -3.98369554e-01\n",
      "           -1.63019345e-01  4.39515714e-02  7.93262325e-02  1.37940027e-01\n",
      "            1.92925686e-03  1.17841718e-01  1.01468718e-01 -4.09142393e-01\n",
      "            8.27473111e-03  1.71708204e-01  1.31901136e-01 -8.13613054e-02\n",
      "           -1.80143564e-01 -2.50062139e-01 -2.93045684e-02  2.53364365e-01\n",
      "           -4.36436678e-01 -1.47556275e-01 -2.54867577e-01  1.75521839e-01\n",
      "           -1.23947396e-01 -1.05237778e-01 -4.85113980e-02  9.95929616e-02\n",
      "           -8.77408476e-02 -6.81138294e-01]\n",
      "          [ 1.21488233e-01  9.81729894e-02 -4.90908663e-02 -2.42397950e-01\n",
      "            7.86604254e-02  8.47996438e-02 -1.05102545e-01 -4.84626308e-02\n",
      "           -2.07989323e-01 -3.99337347e-02 -3.46686541e-01  9.33153252e-02\n",
      "           -2.11167212e-01  5.32414832e-02 -3.14382872e-01 -1.31940906e-01\n",
      "           -2.47061822e-02 -3.71343774e-01  2.57478473e-02 -8.47799716e-02\n",
      "           -3.89602686e-01 -2.91413950e-01  1.35308960e-01  2.00252403e-01\n",
      "           -2.94956686e-02  9.05074947e-02  5.00529416e-02  7.37059399e-02\n",
      "            2.87554773e-01 -3.36975091e-01]\n",
      "          [ 1.51261221e-01 -8.54198024e-02 -5.01458211e-02 -6.75850942e-02\n",
      "           -8.38854427e-02 -2.74185799e-01  4.09958900e-02  3.73634218e-01\n",
      "           -1.25517250e-02 -3.09704984e-04 -1.53684731e-01 -2.62681076e-02\n",
      "            1.04237984e-01 -8.27887279e-02 -1.01473670e-01  9.01726952e-02\n",
      "           -2.05272103e-01  5.64599629e-02  1.83429530e-01  3.04093733e-01\n",
      "           -2.02100318e-02  3.05804035e-01  2.31301081e-01 -2.22759923e-01\n",
      "           -2.72339337e-01 -6.81919448e-02  2.30076984e-01 -1.61638664e-02\n",
      "           -1.34311119e-01  3.47092139e-01]\n",
      "          [ 6.41537929e-02 -5.18900663e-01  7.09192742e-02  1.16284620e-01\n",
      "            5.04476304e-02  1.00558682e-01 -1.50432828e-02 -2.94802275e-01\n",
      "           -8.28919333e-02 -2.11446114e-01 -2.08567212e-01 -2.82430662e-01\n",
      "            1.01179634e-01  2.18902432e-02 -1.00212820e-01 -1.45196379e-01\n",
      "           -5.23756561e-03  2.41315290e-01 -4.48156259e-01  8.42721547e-02\n",
      "           -1.22024912e-01 -4.21406209e-01 -4.35072424e-01 -2.04104596e-01\n",
      "            4.90838291e-02  8.78915407e-02 -2.09962667e-01  2.27412796e-01\n",
      "            3.18188790e-01  8.85676504e-02]\n",
      "          [-1.32241653e-01  2.51427779e-01  1.68911616e-01  1.93958200e-01\n",
      "           -1.46789742e-01 -6.33825640e-01  4.73328859e-01 -3.60203349e-01\n",
      "           -7.99798428e-03  5.32350858e-01  7.39192080e-02  2.12257963e-01\n",
      "           -3.35946089e-01 -3.97498409e-01 -1.19115968e-01  2.43899057e-01\n",
      "           -7.74237332e-02 -1.77686080e-01  4.42668320e-02  2.41928058e-01\n",
      "           -3.23098453e-01 -2.70685652e-01 -1.76351801e-01  2.44768576e-01\n",
      "            5.25076900e-02  4.76764019e-01  2.09395627e-01 -7.84752028e-03\n",
      "            2.82880002e-01  4.72921689e-02]\n",
      "          [-1.57625209e-01  1.52047000e-01 -1.55703378e-01 -6.49347673e-02\n",
      "            2.96901249e-01 -2.26472289e-02 -1.79587880e-01 -1.03829061e-01\n",
      "            2.28479329e-01 -1.23551848e-01 -8.65069544e-02 -1.14104932e-01\n",
      "            4.11269909e-02 -8.61981312e-02 -3.58181438e-01 -1.98379686e-01\n",
      "           -2.08577967e-01  2.78014668e-01  1.81719441e-01  1.31315183e-01\n",
      "           -1.13001560e-01 -1.82416536e-01 -1.13484380e-01 -2.35207546e-01\n",
      "            5.58391005e-01 -5.02069207e-01  1.26116142e-01 -2.87234634e-01\n",
      "           -2.33319134e-02 -2.20923951e-01]\n",
      "          [-2.63325848e-01 -2.54955649e-01  3.92426837e-01 -2.97371154e-02\n",
      "           -1.71216214e-01  1.24277744e-01  2.31417711e-03  1.61004444e-01\n",
      "           -4.07916190e-01  6.78878997e-02  1.72779816e-01 -3.71544681e-01\n",
      "            1.00219511e-01  3.79277722e-01 -3.32228357e-03  1.83671954e-01\n",
      "            1.49944107e-01 -1.58203085e-01  8.89211257e-03 -3.50390660e-01\n",
      "           -1.00914426e-01  5.94096367e-02  1.61690184e-01  5.50343846e-03\n",
      "            1.60993262e-01 -2.46617330e-01 -2.27402017e-02  4.31100154e-03\n",
      "            4.13581178e-01 -4.78891202e-02]\n",
      "          [-1.11583513e-01  4.77427878e-03 -2.05520017e-01  4.31010715e-02\n",
      "           -8.16288250e-02 -4.00553027e-01 -1.31003514e-02 -7.10047934e-02\n",
      "           -3.65020943e-01 -1.50116538e-02  3.33030108e-01  1.16567067e-01\n",
      "            1.36831084e-01 -2.99967783e-01  1.06637718e-01  3.31943363e-02\n",
      "            1.18298108e-01  9.45026304e-02 -3.04056201e-01 -9.25750312e-03\n",
      "           -1.69465075e-01 -1.11991442e-02 -2.00664945e-01  2.93477285e-01\n",
      "           -1.92072061e-01 -2.01009581e-01  1.66780275e-02 -2.40846677e-01\n",
      "           -9.49576018e-02 -1.85585722e-01]\n",
      "          [ 3.15547659e-01  1.75711084e-01 -1.28505747e-02 -8.74787924e-02\n",
      "            2.10395574e-01  9.06063884e-02  1.11367906e-01 -5.85676217e-03\n",
      "           -3.77499713e-01 -2.51481588e-02 -1.19068360e-01  1.44238749e-01\n",
      "            2.26254859e-01 -1.47122329e-01  1.04734119e-01  3.88154332e-01\n",
      "           -1.49305109e-01  3.76089130e-01 -1.90643992e-01  5.13395746e-03\n",
      "           -2.49223466e-03  2.57123224e-03 -1.87310499e-01 -1.32192566e-01\n",
      "           -1.49306789e-01  7.31110578e-02  7.37980964e-02  4.97736273e-01\n",
      "            3.06562452e-01 -1.14004412e-01]\n",
      "          [ 7.26430516e-02  2.22962362e-01  6.84277580e-03 -1.55723296e-02\n",
      "            1.15325076e-02  1.93928945e-01 -1.89690240e-01 -7.28219067e-02\n",
      "            1.05192049e-01  6.96416851e-02  5.35723342e-02 -8.26900540e-02\n",
      "            2.17465613e-01  4.77147439e-01  9.08772668e-02 -4.31956237e-02\n",
      "            1.68988665e-01 -1.20553726e-01 -1.67635859e-01  7.33625889e-03\n",
      "           -5.77530871e-01 -2.58031139e-01 -7.78066335e-02 -3.02626959e-01\n",
      "           -2.30906012e-01 -9.76598946e-02 -3.67378213e-01 -9.08004109e-02\n",
      "           -1.19690045e-01  5.68077713e-03]\n",
      "          [ 2.58083385e-01  3.85731588e-02  4.70961131e-03  2.22386922e-02\n",
      "            5.08465709e-02 -2.27349674e-01 -2.56645423e-02  6.90388795e-02\n",
      "           -3.06511246e-01  1.93565877e-01  2.41803041e-01 -1.41179958e-01\n",
      "           -5.39647706e-02 -1.96369329e-01  1.56386224e-01 -2.37296524e-01\n",
      "           -4.97473704e-02 -1.92060333e-01  1.13937231e-02 -4.01201861e-01\n",
      "            2.96605847e-01 -2.15692549e-01  1.33928586e-02 -4.75215971e-02\n",
      "           -1.70413988e-01 -1.98513672e-01  2.09385085e-01 -1.17536813e-01\n",
      "            6.06354998e-02 -1.79220147e-01]])\n",
      "6-(20,): variable([0. 0. 0. 0. 0. 0. 0. 0. 0. 0. 0. 0. 0. 0. 0. 0. 0. 0. 0. 0.])\n",
      "7-(10, 20): variable([[-0.12749574  0.38657105  0.06586233  0.30884038  0.11269295  0.22343806\n",
      "            0.0033204   0.56474186  0.04013313  0.1271202   0.59550454 -0.42619882\n",
      "           -0.40176265  0.30655016 -0.37097418  0.61462698 -0.13079781 -0.23636597\n",
      "            0.60808767  0.46817988]\n",
      "          [ 0.590574    0.28651648 -0.27234347  0.60401557 -0.08475011  0.25375899\n",
      "            0.29954738 -0.04901849  0.19418894  0.29162736  0.11903621 -0.34766105\n",
      "            0.0943112   0.41944004 -0.21964164 -0.0473186  -0.13760763  0.58478856\n",
      "            0.21259826  0.12885074]\n",
      "          [-0.24346883  0.17052556 -0.21324272  0.01006571 -0.20107218  0.21390698\n",
      "            0.18233403 -0.06586985  0.12522832 -0.34565642 -0.47157704  0.13894786\n",
      "            0.05270679  0.20081458  0.75361657  0.29867063 -0.28865974  0.35323157\n",
      "           -0.41612644 -0.14596587]\n",
      "          [-0.02157989  0.54180652 -0.23551216 -0.26134282 -0.03113342 -0.20981027\n",
      "            0.35627356 -0.34150432 -0.36286146 -0.13845086 -0.15749169  0.61017161\n",
      "            0.30023322  0.02768613 -0.38751673  0.26701102 -0.31629585 -0.48849951\n",
      "            0.375688    0.10022605]\n",
      "          [ 0.29120112  0.10079053  0.27095363 -0.20587237 -0.32705631  0.2155391\n",
      "           -0.25406043 -0.21805479 -0.14405202  0.0055274  -0.11194271 -0.43479776\n",
      "           -0.20353001 -0.70310183  0.19771554 -0.50661513 -0.34923668  0.01649605\n",
      "           -0.23387035  0.48794407]\n",
      "          [-0.40883726  0.0844489  -0.01242232 -0.36938358  0.16547462 -0.05424771\n",
      "            0.24406161  0.26041488  0.68407526  0.42264725 -0.11674555 -0.07569834\n",
      "            0.34774289  0.20721258  0.20242736 -0.51132638 -0.0076926  -0.23338587\n",
      "            0.08851993 -0.03103788]\n",
      "          [ 0.28782384  0.10031321  0.24865873 -0.14749467 -0.29866013 -0.1296691\n",
      "           -0.00538233  0.11989831  0.71445625 -0.01336288 -0.30229636 -0.10940904\n",
      "           -0.14660192  0.15225781 -0.48724279  0.0200052   0.04949171  0.07342209\n",
      "           -0.18888793 -0.07523746]\n",
      "          [-0.45032761 -0.15600144 -0.17166787  0.13156658 -0.36561698  0.24703653\n",
      "            0.47259751 -0.6545867   0.13479485  0.21405711 -0.20157529 -0.12562838\n",
      "           -0.04202053 -0.09416975 -0.09771848 -0.52999894  0.36439924  0.34140537\n",
      "           -0.25720837 -0.46372409]\n",
      "          [ 0.16477518 -0.18208014  0.04488953 -0.10098052  0.21868375  0.21969896\n",
      "           -0.22945404 -0.4374581  -0.50056908  0.19301891 -0.3759503  -0.1602694\n",
      "           -0.18857105 -0.01662324 -0.61230543  0.05969703  0.16566889  0.02796152\n",
      "           -0.09831084  0.03080064]\n",
      "          [ 0.12618953 -0.87677082  0.61851379  0.12335834 -0.20630971 -0.12363031\n",
      "            0.15613486 -0.03671529 -0.64215881  0.65284999 -0.03495603  0.32260694\n",
      "           -0.21884538  0.48584509  0.09054983  0.19253333 -0.33053815  0.38299777\n",
      "            0.21813965  0.41167994]])\n",
      "8-(10,): variable([0. 0. 0. 0. 0. 0. 0. 0. 0. 0.])\n",
      "9-(1, 10): variable([[-1.16514981  0.90082651  0.46566245 -1.53624368  1.48825216  1.89588916\n",
      "            1.1787796  -0.17992483 -1.07075262  1.0544517 ]])\n"
     ]
    }
   ],
   "source": [
    "import numpy as np\n",
    "from dezero import Variable, Layer\n",
    "from dezero.models import Model, MLP\n",
    "import dezero.functions as F\n",
    "import dezero.layers as L\n",
    "model = MLP((10,20,30,40,1)) #5层（4个hidden1 个out）\n",
    "# 在传入数据前模型不会初始化参数，参数全都是None\n",
    "# next(model.params())\n",
    "\n",
    "# 传入toy data\n",
    "np.random.seed(0)\n",
    "x = np.random.rand(100,1)\n",
    "y_pred = model(x)\n",
    "print(y_pred)\n",
    "model._params #{'l0', 'l1', 'l2', 'l3', 'l4'}\n",
    "model.__dict__['l0'].W.shape # (1, 10)\n",
    "\n",
    "\n",
    "for i, w in enumerate(model.params()):\n",
    "    print(f'{i}-{w.shape}: {w}')"
   ]
  },
  {
   "cell_type": "markdown",
   "metadata": {},
   "source": [
    "### 测试__setattr__以及__dicit__的行为"
   ]
  },
  {
   "cell_type": "code",
   "execution_count": 7,
   "metadata": {},
   "outputs": [
    {
     "data": {
      "text/plain": [
       "{'name': 'name1'}"
      ]
     },
     "execution_count": 7,
     "metadata": {},
     "output_type": "execute_result"
    }
   ],
   "source": [
    "\n",
    "#%%\n",
    "class nametest:\n",
    "    def __init__(self, name='name1'):\n",
    "        self.name = name\n",
    "\n",
    "tmp = nametest()\n",
    "tmp.__dict__ # out: {'name': 'name1'}\n",
    "\n",
    "# 从上面这个例子可以看出，实例tmp的所有变量的值都会被__setattr__以{name:value}的形式存到__dict__中\n",
    "\n"
   ]
  },
  {
   "cell_type": "markdown",
   "metadata": {},
   "source": [
    "### `Set` 带来的`.params()`遍历取出`parameters`的随机性 \n",
    "\n",
    "- `yield from`的作用是从一个`iter`中生成另一个`iter`对象，嵌套递归，把所有可能的`parameter`逐个取出\n",
    "- 当set中有不同的数据结构时，会产生随机性:每次重启kernel都不一样"
   ]
  },
  {
   "cell_type": "markdown",
   "metadata": {},
   "source": [
    "- 你需要用交互模式运行下面的内容\n",
    "- 每次重新启动kernel，`yield from`遍历`iterator`的顺序都是不一样的"
   ]
  },
  {
   "cell_type": "code",
   "execution_count": 10,
   "metadata": {},
   "outputs": [
    {
     "name": "stdout",
     "output_type": "stream",
     "text": [
      "6\n",
      "6\n"
     ]
    },
    {
     "data": {
      "text/plain": [
       "'6'"
      ]
     },
     "execution_count": 10,
     "metadata": {},
     "output_type": "execute_result"
    }
   ],
   "source": [
    "tmp2 = iter(set([1,3,2,4,'5','6']))\n",
    "next(tmp2)\n",
    "tmp = set([1,3,2,4,'5','6'])\n",
    "\n",
    "def fun(tmp):\n",
    "    for i in tmp:\n",
    "        print(i)\n",
    "        yield i\n",
    "\n",
    "def func(tmp):\n",
    "    for i in tmp:\n",
    "        print(i)\n",
    "        yield from fun(tmp)\n",
    "\n",
    "tmp3 = func(tmp)\n",
    "next(tmp3)"
   ]
  },
  {
   "cell_type": "markdown",
   "metadata": {},
   "source": [
    "### 使用 `dezero/optimizers.py` 中实现的SGD解决问题"
   ]
  },
  {
   "cell_type": "code",
   "execution_count": 3,
   "metadata": {},
   "outputs": [
    {
     "name": "stdout",
     "output_type": "stream",
     "text": [
      "variable(0.8165178479901415)\n",
      "variable(0.2521950747242885)\n",
      "variable(0.2504242377295966)\n",
      "variable(0.2479233160773438)\n",
      "variable(0.24329152231523804)\n",
      "variable(0.23307035987608468)\n",
      "variable(0.2055474018926681)\n",
      "variable(0.13312454541584906)\n",
      "variable(0.0817534055439662)\n",
      "variable(0.07781429408029678)\n"
     ]
    }
   ],
   "source": [
    "import numpy as np\n",
    "from dezero import Variable, optimizers\n",
    "import dezero.functions as F\n",
    "from dezero.models import MLP\n",
    "\n",
    "np.random.seed(0)\n",
    "x = np.random.rand(100, 1)\n",
    "y = np.sin(2*np.pi*x) + np.random.rand(100, 1)\n",
    "\n",
    "lr = 0.2\n",
    "max_iter = 1000\n",
    "hidden_size = 10\n",
    "\n",
    "model = MLP((hidden_size, 1))\n",
    "\n",
    "# optimizer = optimizers.SGD(le)\n",
    "optimizer = optimizers.MomentumSGD(lr)\n",
    "optimizer.setup(model)\n",
    "# or equivalently:\n",
    "# optimizer = optimizers.SGD(lr).setup(model)\n",
    "\n",
    "for i in range(max_iter):\n",
    "    y_pred = model(x)\n",
    "    loss = F.mean_squared_error(y, y_pred)\n",
    "    model.cleargrads()\n",
    "    loss.backward()\n",
    "\n",
    "    optimizer.update()\n",
    "    if i % 100 == 0:\n",
    "        print(loss)\n"
   ]
  },
  {
   "cell_type": "code",
   "execution_count": 4,
   "metadata": {},
   "outputs": [],
   "source": [
    "p = next(model.params())\n",
    "\n"
   ]
  },
  {
   "cell_type": "code",
   "execution_count": 6,
   "metadata": {},
   "outputs": [
    {
     "data": {
      "text/plain": [
       "2511148658752"
      ]
     },
     "execution_count": 6,
     "metadata": {},
     "output_type": "execute_result"
    }
   ],
   "source": [
    "id(p)"
   ]
  },
  {
   "cell_type": "code",
   "execution_count": 18,
   "metadata": {},
   "outputs": [
    {
     "ename": "AssertionError",
     "evalue": "gy must be np.ndarray",
     "output_type": "error",
     "traceback": [
      "\u001b[1;31m---------------------------------------------------------------------------\u001b[0m",
      "\u001b[1;31mAssertionError\u001b[0m                            Traceback (most recent call last)",
      "Cell \u001b[1;32mIn[18], line 6\u001b[0m\n\u001b[0;32m      4\u001b[0m gx \u001b[38;5;241m=\u001b[39m np\u001b[38;5;241m.\u001b[39mzeros((\u001b[38;5;241m2\u001b[39m,\u001b[38;5;241m3\u001b[39m))\n\u001b[0;32m      5\u001b[0m \u001b[38;5;28misinstance\u001b[39m(gx, np\u001b[38;5;241m.\u001b[39mndarray)\n\u001b[1;32m----> 6\u001b[0m \u001b[38;5;28;01massert\u001b[39;00m \u001b[38;5;28misinstance\u001b[39m(gx, \u001b[38;5;28mfloat\u001b[39m), \u001b[38;5;124m'\u001b[39m\u001b[38;5;124mgy must be np.ndarray\u001b[39m\u001b[38;5;124m'\u001b[39m\n",
      "\u001b[1;31mAssertionError\u001b[0m: gy must be np.ndarray"
     ]
    }
   ],
   "source": [
    "# module type (cuda or np) test\n",
    "import numpy as np\n",
    "\n",
    "gx = np.zeros((2,3))\n",
    "isinstance(gx, np.ndarray)\n",
    "assert isinstance(gx, float), 'gy must be np.ndarray'"
   ]
  },
  {
   "cell_type": "code",
   "execution_count": 1,
   "metadata": {},
   "outputs": [
    {
     "name": "stdout",
     "output_type": "stream",
     "text": [
      "variable([4 5 6])\n",
      "variable([[0 0 0]\n",
      "          [1 1 1]])\n"
     ]
    }
   ],
   "source": [
    "# test with get_item function\n",
    "import numpy as np\n",
    "from dezero import Variable\n",
    "import dezero.functions as F\n",
    "\n",
    "x = Variable(np.array([[1,2,3],[4,5,6]]))\n",
    "y = F.get_item(x, 1)\n",
    "y.backward()\n",
    "print(f'{y}\\n{x.grad}')\n"
   ]
  },
  {
   "cell_type": "code",
   "execution_count": 2,
   "metadata": {},
   "outputs": [
    {
     "name": "stdout",
     "output_type": "stream",
     "text": [
      "variable([[1 2 3]\n",
      "          [1 2 3]\n",
      "          [4 5 6]])\n"
     ]
    }
   ],
   "source": [
    "# 多次提取同一组元素\n",
    "x = Variable(np.array([[1, 2, 3], [4, 5, 6]]))\n",
    "indices = np.array([0, 0, 1])\n",
    "y = F.get_item(x, indices)\n",
    "print(y)"
   ]
  },
  {
   "cell_type": "code",
   "execution_count": 3,
   "metadata": {},
   "outputs": [
    {
     "name": "stdout",
     "output_type": "stream",
     "text": [
      "variable([4 5 6])\n",
      "variable([3 6])\n"
     ]
    }
   ],
   "source": [
    "# 重写Variable类中的__getitem__特殊方法，让get_item函数也可以在Variable类型上使用\n",
    "# 或者直接在dezero.core.py中改写setup_variable\n",
    "Variable.__getitem__ = F.get_item\n",
    "\n",
    "# 行为和np.ndarray的切片一致\n",
    "y = x[1]\n",
    "print(y)\n",
    "y = x[:,2]\n",
    "print(y)"
   ]
  },
  {
   "cell_type": "code",
   "execution_count": 4,
   "metadata": {},
   "outputs": [],
   "source": [
    "from dezero import Variable, as_variable\n",
    "import dezero.functions as F\n",
    "from dezero.models import MLP\n",
    "def softmaxld(x):\n",
    "    # x = as_variable(x)\n",
    "    y = F.exp(x)\n",
    "    sum_y = F.sum(y)\n",
    "    return y/sum_y\n",
    "\n",
    "model = MLP((10, 3)) # 2 layer fc layer"
   ]
  },
  {
   "cell_type": "code",
   "execution_count": 5,
   "metadata": {},
   "outputs": [
    {
     "name": "stdout",
     "output_type": "stream",
     "text": [
      "variable([[-0.05369075  0.74685377 -0.00334219]])\n"
     ]
    }
   ],
   "source": [
    "# x = Variable(np.array([[0.2, -0.4]]))\n",
    "x = np.array([[0.2, -0.4]])\n",
    "y = model(x)\n",
    "p = softmaxld(y)\n",
    "\n",
    "print(y)\n",
    "# print(p)"
   ]
  },
  {
   "cell_type": "code",
   "execution_count": 6,
   "metadata": {},
   "outputs": [
    {
     "data": {
      "text/plain": [
       "variable([[-7.89139711e-17 -1.75721930e-16 -8.29888980e-17]])"
      ]
     },
     "execution_count": 6,
     "metadata": {},
     "output_type": "execute_result"
    }
   ],
   "source": [
    "p.backward(retain_grad=True)\n",
    "y.grad # "
   ]
  },
  {
   "cell_type": "code",
   "execution_count": 1,
   "metadata": {},
   "outputs": [
    {
     "name": "stdout",
     "output_type": "stream",
     "text": [
      "variable(1.4967442462341742)\n"
     ]
    }
   ],
   "source": [
    "# 测试softmax与cross_entropy_loss\n",
    "from dezero import Variable, as_variable\n",
    "import dezero.functions as F\n",
    "from dezero.models import MLP\n",
    "import numpy as np\n",
    "np.random.seed(0)\n",
    "model = MLP((10, 3))\n",
    "x = np.array([[0.2, -0.4], [0.3, 0.5], [1.3, -3.2], [2.1, 0.3]])\n",
    "\n",
    "t = np.array([2, 0, 1, 0])\n",
    "y = model(x)\n",
    "loss = F.softmax_cross_entropy(y, t)\n",
    "print(loss)"
   ]
  },
  {
   "cell_type": "code",
   "execution_count": 13,
   "metadata": {},
   "outputs": [
    {
     "data": {
      "text/plain": [
       "(4,)"
      ]
     },
     "execution_count": 13,
     "metadata": {},
     "output_type": "execute_result"
    }
   ],
   "source": [
    "# 测试 Max()定义中的反向传播掩码cond的shape\n",
    "x = Variable(np.random.rand(10,3))\n",
    "y = x.max(axis = 1, keepdims = True)\n",
    "y.shape # shape (10, 1)\n",
    "cond = (x.data == y.data)\n",
    "cond.shape #shape (10, 1) be broadcast to shape (10, 3)\n",
    "cond.ravel().shape\n",
    "\n",
    "x2 = np.random.rand(10,1)\n",
    "x2.shape # (10, 1)\n",
    "x2.ravel().shape #(10, 0)\n",
    "t.ravel().shape\n"
   ]
  },
  {
   "cell_type": "code",
   "execution_count": 2,
   "metadata": {},
   "outputs": [],
   "source": [
    "# 螺旋数据集 （step 48）\n",
    "import numpy as np\n"
   ]
  },
  {
   "cell_type": "code",
   "execution_count": 3,
   "metadata": {},
   "outputs": [
    {
     "name": "stdout",
     "output_type": "stream",
     "text": [
      "dezero loaded from: ['d:\\\\GITrepo\\\\LLM-from-scratch\\\\dezero']\n",
      "train_set shape: (300, 2), label shape: (300,)\n",
      "data example: (array([-0.06990694, -0.00360829], dtype=float32), np.int32(1))\n"
     ]
    }
   ],
   "source": [
    "import math\n",
    "import numpy as np\n",
    "import dezero\n",
    "print(f'dezero loaded from: {dezero.__path__}')\n",
    "from dezero import optimizers\n",
    "import dezero.functions as F\n",
    "from dezero.models import MLP\n",
    "\n",
    "max_epoch = 100\n",
    "print_every = 10\n",
    "\n",
    "batch_size = 30\n",
    "hidden_size = 10\n",
    "\n",
    "assert print_every >=1 , 'print_every must larger than 1'\n",
    "lr = 1.0\n",
    "\n",
    "# load data\n",
    "# first transform data\n",
    "def f(x):\n",
    "    y = x / 2.0\n",
    "    return y\n",
    "\n",
    "train_set = dezero.datasets.Spiral(transform = f)\n",
    "\n",
    "print(f'train_set shape: {train_set.data.shape}, label shape: {train_set.label.shape}')\n",
    "print(f'data example: {train_set[0]}')\n",
    "\n",
    "# 2 layer fc nn, 3 classes\n",
    "model = MLP((hidden_size, 3))\n",
    "optimizer = optimizers.SGD(lr).setup(model)\n",
    "\n"
   ]
  },
  {
   "cell_type": "code",
   "execution_count": 20,
   "metadata": {},
   "outputs": [
    {
     "name": "stdout",
     "output_type": "stream",
     "text": [
      "epoch: 10, epoch_avg_loss: 0.79\n",
      "epoch: 20, epoch_avg_loss: 0.74\n",
      "epoch: 30, epoch_avg_loss: 0.73\n",
      "epoch: 40, epoch_avg_loss: 0.72\n",
      "epoch: 50, epoch_avg_loss: 0.69\n",
      "epoch: 60, epoch_avg_loss: 0.63\n",
      "epoch: 70, epoch_avg_loss: 0.57\n",
      "epoch: 80, epoch_avg_loss: 0.49\n",
      "epoch: 90, epoch_avg_loss: 0.40\n",
      "epoch: 100, epoch_avg_loss: 0.34\n"
     ]
    }
   ],
   "source": [
    "data_size = len(train_set)\n",
    "max_iter = math.ceil(data_size / batch_size)\n",
    "np.random.seed(0)\n",
    "for epoch in range(max_epoch):\n",
    "\n",
    "    # 随机打乱所有index\n",
    "    \n",
    "    index = np.random.permutation(data_size)\n",
    "    sum_loss = 0\n",
    "\n",
    "    for i in range(max_iter):\n",
    "        # 等距切分打乱后的index\n",
    "        batch_index = index[i*batch_size : (i+1)*batch_size]\n",
    "\n",
    "        # 小批量地读入数据用于训练，防止内存被冲爆\n",
    "        batch = [train_set[i] for i in batch_index]\n",
    "        batch_x = np.array([example[0] for example in batch])\n",
    "        batch_t = np.array([example[1] for example in batch])\n",
    "\n",
    "        y = model(batch_x)\n",
    "        loss = F.softmax_cross_entropy(y, batch_t)\n",
    "        model.cleargrads()\n",
    "        loss.backward()\n",
    "        optimizer.update()\n",
    "\n",
    "        # 求所有数据的loss总和，并非batch loss\n",
    "        sum_loss += float(loss.data) * len(batch_t)\n",
    "\n",
    "    avg_loss = sum_loss / data_size\n",
    "    if epoch % print_every == print_every-1 :\n",
    "        print(f'epoch: {epoch+1}, epoch_avg_loss: {avg_loss:.2f}')"
   ]
  },
  {
   "cell_type": "code",
   "execution_count": 1,
   "metadata": {},
   "outputs": [
    {
     "name": "stdout",
     "output_type": "stream",
     "text": [
      "(array([-0.13981389, -0.00721657], dtype=float32), np.int32(1))\n",
      "300\n"
     ]
    }
   ],
   "source": [
    "# 测试 Datasets 类\n",
    "import dezero\n",
    "\n",
    "train_set = dezero.datasets.Spiral(train = True)\n",
    "print(train_set[0])\n",
    "print(len(train_set))"
   ]
  },
  {
   "cell_type": "code",
   "execution_count": 4,
   "metadata": {},
   "outputs": [
    {
     "name": "stdout",
     "output_type": "stream",
     "text": [
      "(10, 2) (10,)\n",
      "(10, 2) (10,)\n"
     ]
    }
   ],
   "source": [
    "# dataloader class test\n",
    "from dezero.datasets import Spiral\n",
    "from dezero import DataLoader\n",
    "\n",
    "batch_size = 10\n",
    "max_epoch = 1\n",
    "\n",
    "train_set = Spiral(train = True)\n",
    "test_set = Spiral(train = False)\n",
    "train_loader = DataLoader(train_set, batch_size)\n",
    "test_loader = DataLoader(test_set, batch_size, shuffle = False)\n",
    "\n",
    "for epoch in range(max_epoch):\n",
    "    for x, t in train_loader:\n",
    "        print(x.shape, t.shape)\n",
    "        # break: 截断输出，只输出1个用作展示\n",
    "        break\n",
    "    for x, t in test_loader:\n",
    "        print(x.shape, t.shape)\n",
    "        break"
   ]
  },
  {
   "cell_type": "code",
   "execution_count": 1,
   "metadata": {},
   "outputs": [
    {
     "name": "stdout",
     "output_type": "stream",
     "text": [
      "variable(0.6666666666666666)\n"
     ]
    }
   ],
   "source": [
    "# test with accuracy\n",
    "import numpy as np\n",
    "import dezero.functions as F\n",
    "\n",
    "y = np.array([[0.2, 0.8, 0. ], [0.1, 0.9, 0], [0.8, 0.1, 0.1]])\n",
    "t = np.array([1, 2, 0])\n",
    "acc = F.accuracy(y, t)\n",
    "print(acc)"
   ]
  },
  {
   "cell_type": "code",
   "execution_count": 2,
   "metadata": {},
   "outputs": [
    {
     "name": "stdout",
     "output_type": "stream",
     "text": [
      "dezero loaded from: ['d:\\\\GITrepo\\\\LLM-from-scratch\\\\dezero']\n",
      "train_set shape: (300, 2), label shape: (300,)\n",
      "data example: (array([-0.13981389, -0.00721657], dtype=float32), np.int32(1))\n"
     ]
    }
   ],
   "source": [
    "# use Spiral data to train a MLP\n",
    "import math\n",
    "import numpy as np\n",
    "import dezero\n",
    "import dezero.datasets\n",
    "print(f'dezero loaded from: {dezero.__path__}')\n",
    "from dezero import optimizers\n",
    "import dezero.functions as F\n",
    "from dezero.models import MLP\n",
    "\n",
    "max_epoch = 300\n",
    "print_every = 10\n",
    "\n",
    "batch_size = 30\n",
    "hidden_size = 10\n",
    "\n",
    "assert print_every >=1 , 'print_every must larger than 1'\n",
    "lr = 1.0\n",
    "\n",
    "# load data\n",
    "train_set = dezero.datasets.Spiral(train = True)\n",
    "test_set = dezero.datasets.Spiral(train = False)\n",
    "train_loader = dezero.DataLoader(train_set, batch_size)\n",
    "test_loader = dezero.DataLoader(test_set, batch_size, shuffle = False)\n",
    "\n",
    "print(f'train_set shape: {train_set.data.shape}, label shape: {train_set.label.shape}')\n",
    "print(f'data example: {train_set[0]}')\n",
    "\n",
    "# 2 layer fc nn, 3 classes\n",
    "model = MLP((hidden_size, 3))\n",
    "optimizer = optimizers.SGD(lr).setup(model)"
   ]
  },
  {
   "cell_type": "code",
   "execution_count": 4,
   "metadata": {},
   "outputs": [
    {
     "name": "stdout",
     "output_type": "stream",
     "text": [
      "epoch: 10, train_avg_loss: 0.27, test_avg_acc: 0.93\n",
      "test_avg_loss: 0.01, test_avg_acc: 0.89\n",
      "epoch: 20, train_avg_loss: 0.24, test_avg_acc: 0.92\n",
      "test_avg_loss: 0.01, test_avg_acc: 0.92\n",
      "epoch: 30, train_avg_loss: 0.21, test_avg_acc: 0.92\n",
      "test_avg_loss: 0.01, test_avg_acc: 0.90\n",
      "epoch: 40, train_avg_loss: 0.20, test_avg_acc: 0.93\n",
      "test_avg_loss: 0.01, test_avg_acc: 0.92\n",
      "epoch: 50, train_avg_loss: 0.19, test_avg_acc: 0.92\n",
      "test_avg_loss: 0.01, test_avg_acc: 0.91\n",
      "epoch: 60, train_avg_loss: 0.17, test_avg_acc: 0.94\n",
      "test_avg_loss: 0.01, test_avg_acc: 0.93\n",
      "epoch: 70, train_avg_loss: 0.17, test_avg_acc: 0.94\n",
      "test_avg_loss: 0.01, test_avg_acc: 0.93\n",
      "epoch: 80, train_avg_loss: 0.15, test_avg_acc: 0.95\n",
      "test_avg_loss: 0.01, test_avg_acc: 0.94\n",
      "epoch: 90, train_avg_loss: 0.15, test_avg_acc: 0.95\n",
      "test_avg_loss: 0.01, test_avg_acc: 0.93\n",
      "epoch: 100, train_avg_loss: 0.14, test_avg_acc: 0.95\n",
      "test_avg_loss: 0.01, test_avg_acc: 0.94\n"
     ]
    }
   ],
   "source": [
    "# training loop\n",
    "data_size = len(train_set)\n",
    "max_iter = math.ceil(data_size / batch_size)\n",
    "\n",
    "for epoch in range(max_epoch):\n",
    "    sum_loss, sum_acc = 0, 0\n",
    "\n",
    "    for x, t in train_loader:\n",
    "        y = model(x)\n",
    "        loss = F.softmax_cross_entropy(y, t)\n",
    "        acc = F.accuracy(y, t)\n",
    "        model.cleargrads()\n",
    "        loss.backward()\n",
    "        optimizer.update()\n",
    "\n",
    "        sum_loss += float(loss.data) * len(t)\n",
    "        sum_acc += float(acc.data) * len(t)\n",
    "\n",
    "    # print training info\n",
    "    avg_loss = sum_loss / data_size\n",
    "    avg_acc = sum_acc / data_size\n",
    "    if epoch % print_every == print_every-1 :\n",
    "        print(f'epoch: {epoch+1}, train_avg_loss: {avg_loss:.2f}, test_avg_acc: {avg_acc:.2f}')\n",
    "\n",
    "    sum_loss, sum_acc = 0, 0\n",
    "    # print eval info\n",
    "    with dezero.no_grad():\n",
    "        for x, t in test_loader:\n",
    "            y = model(x)\n",
    "            loss = F.softmax_cross_entropy(y, t)\n",
    "            acc = F.accuracy(y, t)\n",
    "            sum_loss += float(loss.data)\n",
    "            sum_acc += float(acc.data) * len(t)\n",
    "    \n",
    "    # print eval(test) info\n",
    "    avg_loss = sum_loss / data_size\n",
    "    avg_acc = sum_acc / data_size\n",
    "    if epoch % print_every == print_every-1 :\n",
    "        print(f'test_avg_loss: {avg_loss:.2f}, test_avg_acc: {avg_acc:.2f}')"
   ]
  },
  {
   "cell_type": "code",
   "execution_count": 1,
   "metadata": {},
   "outputs": [],
   "source": [
    "# MNIST dataset\n",
    "import dezero\n",
    "train_set = dezero.datasets.MNIST(train = True, transform = None)\n",
    "test_set = dezero.datasets.MNIST(train = False, transform = None)\n"
   ]
  },
  {
   "cell_type": "code",
   "execution_count": 4,
   "metadata": {},
   "outputs": [
    {
     "name": "stdout",
     "output_type": "stream",
     "text": [
      "60000\n",
      "<class 'numpy.ndarray'> (1, 28, 28)\n",
      "5\n"
     ]
    }
   ],
   "source": [
    "print(len(train_set))\n",
    "import matplotlib.pyplot as plt\n",
    "\n",
    "x, t = train_set[0]\n",
    "print(type(x), x.shape)\n",
    "print(t)"
   ]
  },
  {
   "cell_type": "code",
   "execution_count": 5,
   "metadata": {},
   "outputs": [
    {
     "data": {
      "image/png": "[encoded data removed]",
      "text/plain": [
       "<Figure size 640x480 with 1 Axes>"
      ]
     },
     "metadata": {},
     "output_type": "display_data"
    }
   ],
   "source": [
    "plt.imshow(x.reshape(28, 28), cmap = 'gray')\n",
    "plt.axis('off')\n",
    "plt.show()"
   ]
  },
  {
   "cell_type": "code",
   "execution_count": 2,
   "metadata": {},
   "outputs": [
    {
     "name": "stdout",
     "output_type": "stream",
     "text": [
      "dezero loaded from: ['d:\\\\GITrepo\\\\LLM-from-scratch\\\\dezero']\n"
     ]
    }
   ],
   "source": [
    "# start training a NN\n",
    "\n",
    "import math\n",
    "import numpy as np\n",
    "import dezero\n",
    "import dezero.datasets\n",
    "print(f'dezero loaded from: {dezero.__path__}')\n",
    "from dezero import optimizers\n",
    "import dezero.functions as F\n",
    "from dezero.models import MLP\n",
    "# def transform function to preprocess\n",
    "\n",
    "def f(x):\n",
    "    x = x.flatten()\n",
    "    x = x.astype(np.float32)\n",
    "    x /= 255.0\n",
    "    return x\n",
    "\n",
    "# setup hyper-params\n",
    "\n",
    "max_epoch = 5\n",
    "print_every = 1\n",
    "\n",
    "batch_size = 100\n",
    "hidden_size = 1000\n",
    "lr = 1.0\n",
    "\n",
    "train_set = dezero.datasets.MNIST(train = True, transform = f)\n",
    "test_set = dezero.datasets.MNIST(train=False, transform = f)\n",
    "train_loader = dezero.DataLoader(train_set, batch_size)\n",
    "test_loader = dezero.DataLoader(test_set, batch_size, shuffle = False)"
   ]
  },
  {
   "cell_type": "code",
   "execution_count": 7,
   "metadata": {},
   "outputs": [
    {
     "name": "stdout",
     "output_type": "stream",
     "text": [
      "epoch: 1, train_avg_loss: 0.4034, train_avg_acc: 0.8903\n",
      "test_avg_loss: 0.2049, test_avg_acc: 0.9417\n",
      "epoch: 2, train_avg_loss: 0.1753, train_avg_acc: 0.9500\n",
      "test_avg_loss: 0.1400, test_avg_acc: 0.9589\n",
      "epoch: 3, train_avg_loss: 0.1223, train_avg_acc: 0.9646\n",
      "test_avg_loss: 0.1231, test_avg_acc: 0.9606\n",
      "epoch: 4, train_avg_loss: 0.0930, train_avg_acc: 0.9737\n",
      "test_avg_loss: 0.0898, test_avg_acc: 0.9729\n",
      "epoch: 5, train_avg_loss: 0.0742, train_avg_acc: 0.9785\n",
      "test_avg_loss: 0.0864, test_avg_acc: 0.9717\n"
     ]
    }
   ],
   "source": [
    "# training loop\n",
    "assert print_every >=1 , 'print_every must larger than 1'\n",
    "\n",
    "model = MLP((hidden_size, hidden_size, 10), activation=F.relu)\n",
    "optimizer = optimizers.MomentumSGD().setup(model)\n",
    "\n",
    "# max_iter = math.ceil(data_size / batch_size)\n",
    "\n",
    "for epoch in range(max_epoch):\n",
    "    sum_loss, sum_acc = 0, 0\n",
    "\n",
    "    for x, t in train_loader:\n",
    "        y = model(x)\n",
    "        loss = F.softmax_cross_entropy(y, t)\n",
    "        acc = F.accuracy(y, t)\n",
    "        model.cleargrads()\n",
    "        loss.backward()\n",
    "        optimizer.update()\n",
    "\n",
    "        sum_loss += float(loss.data) * len(t)\n",
    "        sum_acc += float(acc.data) * len(t)\n",
    "\n",
    "    # print training info\n",
    "    avg_loss = sum_loss / len(train_set)\n",
    "    avg_acc = sum_acc / len(train_set)\n",
    "    if epoch % print_every == print_every-1 :\n",
    "        print(f'epoch: {epoch+1}, train_avg_loss: {avg_loss:.4f}, train_avg_acc: {avg_acc:.4f}')\n",
    "\n",
    "    sum_loss, sum_acc = 0, 0\n",
    "    # print eval info\n",
    "    with dezero.no_grad():\n",
    "        for x, t in test_loader:\n",
    "            y = model(x)\n",
    "            loss = F.softmax_cross_entropy(y, t)\n",
    "            acc = F.accuracy(y, t)\n",
    "            sum_loss += float(loss.data) * len(t)\n",
    "            sum_acc += float(acc.data) * len(t)\n",
    "    \n",
    "    # print eval(test) info\n",
    "    avg_loss = sum_loss / len(test_set)\n",
    "    avg_acc = sum_acc / len(test_set)\n",
    "    if epoch % print_every == print_every-1 :\n",
    "        print(f'test_avg_loss: {avg_loss:.4f}, test_avg_acc: {avg_acc:.4f}')"
   ]
  }
 ],
 "metadata": {
  "kernelspec": {
   "display_name": "DL-HW-Py310",
   "language": "python",
   "name": "python3"
  },
  "language_info": {
   "codemirror_mode": {
    "name": "ipython",
    "version": 3
   },
   "file_extension": ".py",
   "mimetype": "text/x-python",
   "name": "python",
   "nbconvert_exporter": "python",
   "pygments_lexer": "ipython3",
   "version": "3.10.16"
  }
 },
 "nbformat": 4,
 "nbformat_minor": 2
}
