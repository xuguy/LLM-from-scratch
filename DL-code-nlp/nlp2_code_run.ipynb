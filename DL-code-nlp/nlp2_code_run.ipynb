{
 "cells": [
  {
   "cell_type": "code",
   "execution_count": 5,
   "metadata": {},
   "outputs": [
    {
     "name": "stdout",
     "output_type": "stream",
     "text": [
      "run on local\n",
      "hello world\n"
     ]
    }
   ],
   "source": [
    "import sys\n",
    "sys.path.append('/kaggle/input/nlp2-src')\n",
    "try:\n",
    "    import cupy\n",
    "except:\n",
    "    print('run on local')\n",
    "    sys.path.append('D:\\GITrepo\\LLM-from-scratch\\DL-code-nlp\\DL-code-nlp-kaggle\\src')\n",
    "print('hello world')"
   ]
  },
  {
   "cell_type": "code",
   "execution_count": null,
   "metadata": {},
   "outputs": [],
   "source": [
    "# %run /kaggle/input/nlp2-src/ch04/train.py"
   ]
  },
  {
   "cell_type": "code",
   "execution_count": 7,
   "metadata": {},
   "outputs": [
    {
     "name": "stderr",
     "output_type": "stream",
     "text": [
      "C:\\Users\\xuguy\\AppData\\Local\\Temp\\ipykernel_19300\\804808607.py:6: DeprecationWarning: numpy.core.numeric is deprecated and has been renamed to numpy._core.numeric. The numpy._core namespace contains private NumPy internals and its use is discouraged, as NumPy internals can change without warning in any release. In practice, most real-world usage of numpy.core is to access functionality in the public NumPy API. If that is the case, use the public NumPy API. If not, you are using NumPy internals. If you would still like to access an internal attribute, use numpy._core.numeric._frombuffer.\n",
      "  params = pickle.load(f)\n"
     ]
    },
    {
     "name": "stdout",
     "output_type": "stream",
     "text": [
      "\n",
      "[query] you\n",
      " we: 0.70703125\n",
      " i: 0.703125\n",
      " your: 0.6474609375\n",
      " anybody: 0.5751953125\n",
      " they: 0.57421875\n",
      "\n",
      "[query] year\n",
      " month: 0.859375\n",
      " week: 0.7763671875\n",
      " spring: 0.775390625\n",
      " summer: 0.77099609375\n",
      " decade: 0.68115234375\n",
      "\n",
      "[query] car\n",
      " truck: 0.61181640625\n",
      " window: 0.6025390625\n",
      " auto: 0.59521484375\n",
      " cars: 0.58935546875\n",
      " luxury: 0.56787109375\n",
      "\n",
      "[query] toyota\n",
      " honda: 0.640625\n",
      " seita: 0.62548828125\n",
      " coated: 0.6083984375\n",
      " f-14: 0.59814453125\n",
      " chevrolet: 0.59130859375\n"
     ]
    }
   ],
   "source": [
    "from common.util import most_similar\n",
    "import pickle\n",
    "pkl_file = 'cbow_params.pkl'\n",
    "\n",
    "with open(pkl_file, 'rb') as f:\n",
    "    params = pickle.load(f)\n",
    "    word_vecs = params['word_vecs']\n",
    "    word_to_id = params['word_to_id']\n",
    "    id_to_word = params['id_to_word']\n",
    "\n",
    "querys = ['you', 'year', 'car', 'toyota']\n",
    "\n",
    "for query in querys:\n",
    "    most_similar(query, word_to_id, id_to_word, word_vecs, top=5)"
   ]
  },
  {
   "cell_type": "code",
   "execution_count": 18,
   "metadata": {},
   "outputs": [
    {
     "name": "stdout",
     "output_type": "stream",
     "text": [
      "\n",
      "[analogy] king:man = queen:?\n",
      " woman: 5.47265625\n",
      " toxin: 4.89453125\n",
      " mother: 4.81640625\n",
      " hacker: 4.69921875\n",
      " carolinas: 4.6640625\n"
     ]
    }
   ],
   "source": [
    "from common.util import analogy\n",
    "\n",
    "# analogy('king', 'man', 'queen', word_to_id, id_to_word, word_vecs, top = 5)\n",
    "\n",
    "analogy('king', 'man', 'queen', word_to_id, id_to_word, word_vecs, top = 5)"
   ]
  }
 ],
 "metadata": {
  "kernelspec": {
   "display_name": "DL-HW-Py310",
   "language": "python",
   "name": "python3"
  },
  "language_info": {
   "codemirror_mode": {
    "name": "ipython",
    "version": 3
   },
   "file_extension": ".py",
   "mimetype": "text/x-python",
   "name": "python",
   "nbconvert_exporter": "python",
   "pygments_lexer": "ipython3",
   "version": "3.10.16"
  }
 },
 "nbformat": 4,
 "nbformat_minor": 2
}
